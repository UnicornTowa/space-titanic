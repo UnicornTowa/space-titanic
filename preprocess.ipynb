{
 "cells": [
  {
   "cell_type": "markdown",
   "id": "24995fef555fbfa",
   "metadata": {
    "collapsed": false,
    "papermill": {
     "duration": 0.012172,
     "end_time": "2023-11-25T08:07:47.425612",
     "exception": false,
     "start_time": "2023-11-25T08:07:47.413440",
     "status": "completed"
    },
    "tags": []
   },
   "source": [
    "# Spaceship Titanic I"
   ]
  },
  {
   "cell_type": "code",
   "execution_count": 1,
   "id": "78d12a9f",
   "metadata": {
    "ExecuteTime": {
     "end_time": "2023-11-25T07:57:01.257582700Z",
     "start_time": "2023-11-25T07:57:01.027874200Z"
    },
    "_cell_guid": "b1076dfc-b9ad-4769-8c92-a6c4dae69d19",
    "_uuid": "8f2839f25d086af736a60e9eeb907d3b93b6e0e5",
    "execution": {
     "iopub.execute_input": "2023-11-25T08:07:47.450066Z",
     "iopub.status.busy": "2023-11-25T08:07:47.450066Z",
     "iopub.status.idle": "2023-11-25T08:07:49.554188Z",
     "shell.execute_reply": "2023-11-25T08:07:49.554188Z"
    },
    "papermill": {
     "duration": 2.11638,
     "end_time": "2023-11-25T08:07:49.554188",
     "exception": false,
     "start_time": "2023-11-25T08:07:47.437808",
     "status": "completed"
    },
    "tags": []
   },
   "outputs": [],
   "source": [
    "import pandas as pd\n",
    "from matplotlib import pyplot as plt\n",
    "import seaborn as sns"
   ]
  },
  {
   "cell_type": "markdown",
   "id": "1a7719f1",
   "metadata": {
    "papermill": {
     "duration": 0.008025,
     "end_time": "2023-11-25T08:07:49.577071",
     "exception": false,
     "start_time": "2023-11-25T08:07:49.569046",
     "status": "completed"
    },
    "tags": []
   },
   "source": [
    "### Читаем данные"
   ]
  },
  {
   "cell_type": "code",
   "execution_count": 2,
   "id": "d9c175e7",
   "metadata": {
    "ExecuteTime": {
     "end_time": "2023-11-25T07:57:01.415327Z",
     "start_time": "2023-11-25T07:57:01.028384500Z"
    },
    "execution": {
     "iopub.execute_input": "2023-11-25T08:07:49.619741Z",
     "iopub.status.busy": "2023-11-25T08:07:49.619741Z",
     "iopub.status.idle": "2023-11-25T08:07:49.676375Z",
     "shell.execute_reply": "2023-11-25T08:07:49.676375Z"
    },
    "papermill": {
     "duration": 0.087095,
     "end_time": "2023-11-25T08:07:49.676375",
     "exception": false,
     "start_time": "2023-11-25T08:07:49.589280",
     "status": "completed"
    },
    "tags": []
   },
   "outputs": [],
   "source": [
    "df = pd.read_csv('train.csv')\n",
    "df_test = pd.read_csv('test.csv')"
   ]
  },
  {
   "cell_type": "code",
   "execution_count": 3,
   "id": "7ee73d23",
   "metadata": {
    "ExecuteTime": {
     "end_time": "2023-11-25T07:57:01.478713600Z",
     "start_time": "2023-11-25T07:57:01.077432Z"
    },
    "execution": {
     "iopub.execute_input": "2023-11-25T08:07:49.699008Z",
     "iopub.status.busy": "2023-11-25T08:07:49.699008Z",
     "iopub.status.idle": "2023-11-25T08:07:49.717836Z",
     "shell.execute_reply": "2023-11-25T08:07:49.717836Z"
    },
    "papermill": {
     "duration": 0.031004,
     "end_time": "2023-11-25T08:07:49.717836",
     "exception": false,
     "start_time": "2023-11-25T08:07:49.686832",
     "status": "completed"
    },
    "tags": []
   },
   "outputs": [
    {
     "name": "stdout",
     "output_type": "stream",
     "text": [
      "<class 'pandas.core.frame.DataFrame'>\n",
      "RangeIndex: 8693 entries, 0 to 8692\n",
      "Data columns (total 14 columns):\n",
      " #   Column        Non-Null Count  Dtype  \n",
      "---  ------        --------------  -----  \n",
      " 0   PassengerId   8693 non-null   object \n",
      " 1   HomePlanet    8492 non-null   object \n",
      " 2   CryoSleep     8476 non-null   object \n",
      " 3   Cabin         8494 non-null   object \n",
      " 4   Destination   8511 non-null   object \n",
      " 5   Age           8514 non-null   float64\n",
      " 6   VIP           8490 non-null   object \n",
      " 7   RoomService   8512 non-null   float64\n",
      " 8   FoodCourt     8510 non-null   float64\n",
      " 9   ShoppingMall  8485 non-null   float64\n",
      " 10  Spa           8510 non-null   float64\n",
      " 11  VRDeck        8505 non-null   float64\n",
      " 12  Name          8493 non-null   object \n",
      " 13  Transported   8693 non-null   bool   \n",
      "dtypes: bool(1), float64(6), object(7)\n",
      "memory usage: 891.5+ KB\n"
     ]
    }
   ],
   "source": [
    "df.info()"
   ]
  },
  {
   "cell_type": "markdown",
   "id": "f6c2c572",
   "metadata": {
    "papermill": {
     "duration": 0.012137,
     "end_time": "2023-11-25T08:07:49.740723",
     "exception": false,
     "start_time": "2023-11-25T08:07:49.728586",
     "status": "completed"
    },
    "tags": []
   },
   "source": []
  },
  {
   "cell_type": "markdown",
   "id": "94dbb3af",
   "metadata": {
    "papermill": {
     "duration": 0.010057,
     "end_time": "2023-11-25T08:07:49.763875",
     "exception": false,
     "start_time": "2023-11-25T08:07:49.753818",
     "status": "completed"
    },
    "tags": []
   },
   "source": [
    "### Удаляем id и name, ставим целевой признак на первое место для удобства"
   ]
  },
  {
   "cell_type": "code",
   "execution_count": 4,
   "id": "f5f804c8",
   "metadata": {
    "ExecuteTime": {
     "end_time": "2023-11-25T07:57:01.547807200Z",
     "start_time": "2023-11-25T07:57:01.091852200Z"
    },
    "execution": {
     "iopub.execute_input": "2023-11-25T08:07:49.783728Z",
     "iopub.status.busy": "2023-11-25T08:07:49.783728Z",
     "iopub.status.idle": "2023-11-25T08:07:49.818423Z",
     "shell.execute_reply": "2023-11-25T08:07:49.818423Z"
    },
    "papermill": {
     "duration": 0.046634,
     "end_time": "2023-11-25T08:07:49.820207",
     "exception": false,
     "start_time": "2023-11-25T08:07:49.773573",
     "status": "completed"
    },
    "tags": []
   },
   "outputs": [
    {
     "data": {
      "text/html": [
       "<div>\n",
       "<style scoped>\n",
       "    .dataframe tbody tr th:only-of-type {\n",
       "        vertical-align: middle;\n",
       "    }\n",
       "\n",
       "    .dataframe tbody tr th {\n",
       "        vertical-align: top;\n",
       "    }\n",
       "\n",
       "    .dataframe thead th {\n",
       "        text-align: right;\n",
       "    }\n",
       "</style>\n",
       "<table border=\"1\" class=\"dataframe\">\n",
       "  <thead>\n",
       "    <tr style=\"text-align: right;\">\n",
       "      <th></th>\n",
       "      <th>Transported</th>\n",
       "      <th>HomePlanet</th>\n",
       "      <th>CryoSleep</th>\n",
       "      <th>Cabin</th>\n",
       "      <th>Destination</th>\n",
       "      <th>Age</th>\n",
       "      <th>VIP</th>\n",
       "      <th>RoomService</th>\n",
       "      <th>FoodCourt</th>\n",
       "      <th>ShoppingMall</th>\n",
       "      <th>Spa</th>\n",
       "      <th>VRDeck</th>\n",
       "    </tr>\n",
       "  </thead>\n",
       "  <tbody>\n",
       "    <tr>\n",
       "      <th>0</th>\n",
       "      <td>False</td>\n",
       "      <td>Europa</td>\n",
       "      <td>False</td>\n",
       "      <td>B/0/P</td>\n",
       "      <td>TRAPPIST-1e</td>\n",
       "      <td>39.0</td>\n",
       "      <td>False</td>\n",
       "      <td>0.0</td>\n",
       "      <td>0.0</td>\n",
       "      <td>0.0</td>\n",
       "      <td>0.0</td>\n",
       "      <td>0.0</td>\n",
       "    </tr>\n",
       "    <tr>\n",
       "      <th>1</th>\n",
       "      <td>True</td>\n",
       "      <td>Earth</td>\n",
       "      <td>False</td>\n",
       "      <td>F/0/S</td>\n",
       "      <td>TRAPPIST-1e</td>\n",
       "      <td>24.0</td>\n",
       "      <td>False</td>\n",
       "      <td>109.0</td>\n",
       "      <td>9.0</td>\n",
       "      <td>25.0</td>\n",
       "      <td>549.0</td>\n",
       "      <td>44.0</td>\n",
       "    </tr>\n",
       "    <tr>\n",
       "      <th>2</th>\n",
       "      <td>False</td>\n",
       "      <td>Europa</td>\n",
       "      <td>False</td>\n",
       "      <td>A/0/S</td>\n",
       "      <td>TRAPPIST-1e</td>\n",
       "      <td>58.0</td>\n",
       "      <td>True</td>\n",
       "      <td>43.0</td>\n",
       "      <td>3576.0</td>\n",
       "      <td>0.0</td>\n",
       "      <td>6715.0</td>\n",
       "      <td>49.0</td>\n",
       "    </tr>\n",
       "    <tr>\n",
       "      <th>3</th>\n",
       "      <td>False</td>\n",
       "      <td>Europa</td>\n",
       "      <td>False</td>\n",
       "      <td>A/0/S</td>\n",
       "      <td>TRAPPIST-1e</td>\n",
       "      <td>33.0</td>\n",
       "      <td>False</td>\n",
       "      <td>0.0</td>\n",
       "      <td>1283.0</td>\n",
       "      <td>371.0</td>\n",
       "      <td>3329.0</td>\n",
       "      <td>193.0</td>\n",
       "    </tr>\n",
       "    <tr>\n",
       "      <th>4</th>\n",
       "      <td>True</td>\n",
       "      <td>Earth</td>\n",
       "      <td>False</td>\n",
       "      <td>F/1/S</td>\n",
       "      <td>TRAPPIST-1e</td>\n",
       "      <td>16.0</td>\n",
       "      <td>False</td>\n",
       "      <td>303.0</td>\n",
       "      <td>70.0</td>\n",
       "      <td>151.0</td>\n",
       "      <td>565.0</td>\n",
       "      <td>2.0</td>\n",
       "    </tr>\n",
       "    <tr>\n",
       "      <th>...</th>\n",
       "      <td>...</td>\n",
       "      <td>...</td>\n",
       "      <td>...</td>\n",
       "      <td>...</td>\n",
       "      <td>...</td>\n",
       "      <td>...</td>\n",
       "      <td>...</td>\n",
       "      <td>...</td>\n",
       "      <td>...</td>\n",
       "      <td>...</td>\n",
       "      <td>...</td>\n",
       "      <td>...</td>\n",
       "    </tr>\n",
       "    <tr>\n",
       "      <th>8688</th>\n",
       "      <td>False</td>\n",
       "      <td>Europa</td>\n",
       "      <td>False</td>\n",
       "      <td>A/98/P</td>\n",
       "      <td>55 Cancri e</td>\n",
       "      <td>41.0</td>\n",
       "      <td>True</td>\n",
       "      <td>0.0</td>\n",
       "      <td>6819.0</td>\n",
       "      <td>0.0</td>\n",
       "      <td>1643.0</td>\n",
       "      <td>74.0</td>\n",
       "    </tr>\n",
       "    <tr>\n",
       "      <th>8689</th>\n",
       "      <td>False</td>\n",
       "      <td>Earth</td>\n",
       "      <td>True</td>\n",
       "      <td>G/1499/S</td>\n",
       "      <td>PSO J318.5-22</td>\n",
       "      <td>18.0</td>\n",
       "      <td>False</td>\n",
       "      <td>0.0</td>\n",
       "      <td>0.0</td>\n",
       "      <td>0.0</td>\n",
       "      <td>0.0</td>\n",
       "      <td>0.0</td>\n",
       "    </tr>\n",
       "    <tr>\n",
       "      <th>8690</th>\n",
       "      <td>True</td>\n",
       "      <td>Earth</td>\n",
       "      <td>False</td>\n",
       "      <td>G/1500/S</td>\n",
       "      <td>TRAPPIST-1e</td>\n",
       "      <td>26.0</td>\n",
       "      <td>False</td>\n",
       "      <td>0.0</td>\n",
       "      <td>0.0</td>\n",
       "      <td>1872.0</td>\n",
       "      <td>1.0</td>\n",
       "      <td>0.0</td>\n",
       "    </tr>\n",
       "    <tr>\n",
       "      <th>8691</th>\n",
       "      <td>False</td>\n",
       "      <td>Europa</td>\n",
       "      <td>False</td>\n",
       "      <td>E/608/S</td>\n",
       "      <td>55 Cancri e</td>\n",
       "      <td>32.0</td>\n",
       "      <td>False</td>\n",
       "      <td>0.0</td>\n",
       "      <td>1049.0</td>\n",
       "      <td>0.0</td>\n",
       "      <td>353.0</td>\n",
       "      <td>3235.0</td>\n",
       "    </tr>\n",
       "    <tr>\n",
       "      <th>8692</th>\n",
       "      <td>True</td>\n",
       "      <td>Europa</td>\n",
       "      <td>False</td>\n",
       "      <td>E/608/S</td>\n",
       "      <td>TRAPPIST-1e</td>\n",
       "      <td>44.0</td>\n",
       "      <td>False</td>\n",
       "      <td>126.0</td>\n",
       "      <td>4688.0</td>\n",
       "      <td>0.0</td>\n",
       "      <td>0.0</td>\n",
       "      <td>12.0</td>\n",
       "    </tr>\n",
       "  </tbody>\n",
       "</table>\n",
       "<p>8693 rows × 12 columns</p>\n",
       "</div>"
      ],
      "text/plain": [
       "      Transported HomePlanet CryoSleep     Cabin    Destination   Age    VIP  \\\n",
       "0           False     Europa     False     B/0/P    TRAPPIST-1e  39.0  False   \n",
       "1            True      Earth     False     F/0/S    TRAPPIST-1e  24.0  False   \n",
       "2           False     Europa     False     A/0/S    TRAPPIST-1e  58.0   True   \n",
       "3           False     Europa     False     A/0/S    TRAPPIST-1e  33.0  False   \n",
       "4            True      Earth     False     F/1/S    TRAPPIST-1e  16.0  False   \n",
       "...           ...        ...       ...       ...            ...   ...    ...   \n",
       "8688        False     Europa     False    A/98/P    55 Cancri e  41.0   True   \n",
       "8689        False      Earth      True  G/1499/S  PSO J318.5-22  18.0  False   \n",
       "8690         True      Earth     False  G/1500/S    TRAPPIST-1e  26.0  False   \n",
       "8691        False     Europa     False   E/608/S    55 Cancri e  32.0  False   \n",
       "8692         True     Europa     False   E/608/S    TRAPPIST-1e  44.0  False   \n",
       "\n",
       "      RoomService  FoodCourt  ShoppingMall     Spa  VRDeck  \n",
       "0             0.0        0.0           0.0     0.0     0.0  \n",
       "1           109.0        9.0          25.0   549.0    44.0  \n",
       "2            43.0     3576.0           0.0  6715.0    49.0  \n",
       "3             0.0     1283.0         371.0  3329.0   193.0  \n",
       "4           303.0       70.0         151.0   565.0     2.0  \n",
       "...           ...        ...           ...     ...     ...  \n",
       "8688          0.0     6819.0           0.0  1643.0    74.0  \n",
       "8689          0.0        0.0           0.0     0.0     0.0  \n",
       "8690          0.0        0.0        1872.0     1.0     0.0  \n",
       "8691          0.0     1049.0           0.0   353.0  3235.0  \n",
       "8692        126.0     4688.0           0.0     0.0    12.0  \n",
       "\n",
       "[8693 rows x 12 columns]"
      ]
     },
     "execution_count": 4,
     "metadata": {},
     "output_type": "execute_result"
    }
   ],
   "source": [
    "df = df.drop(['PassengerId', 'Name'], axis=1)\n",
    "df_test = df_test.drop(['Name'], axis=1)\n",
    "Transported = df['Transported']\n",
    "df = df.drop('Transported', axis=1)\n",
    "df.insert(0, 'Transported', Transported)\n",
    "df"
   ]
  },
  {
   "cell_type": "markdown",
   "id": "00fd334e",
   "metadata": {
    "papermill": {
     "duration": 0.01153,
     "end_time": "2023-11-25T08:07:49.843875",
     "exception": false,
     "start_time": "2023-11-25T08:07:49.832345",
     "status": "completed"
    },
    "tags": []
   },
   "source": [
    "### Начинаем разбираться со столбцами"
   ]
  },
  {
   "cell_type": "code",
   "execution_count": 5,
   "id": "1858b5ac",
   "metadata": {
    "ExecuteTime": {
     "end_time": "2023-11-25T07:57:01.573408200Z",
     "start_time": "2023-11-25T07:57:01.132200300Z"
    },
    "execution": {
     "iopub.execute_input": "2023-11-25T08:07:49.868178Z",
     "iopub.status.busy": "2023-11-25T08:07:49.868178Z",
     "iopub.status.idle": "2023-11-25T08:07:49.878544Z",
     "shell.execute_reply": "2023-11-25T08:07:49.878544Z"
    },
    "papermill": {
     "duration": 0.024287,
     "end_time": "2023-11-25T08:07:49.880154",
     "exception": false,
     "start_time": "2023-11-25T08:07:49.855867",
     "status": "completed"
    },
    "tags": []
   },
   "outputs": [
    {
     "name": "stdout",
     "output_type": "stream",
     "text": [
      "<class 'pandas.core.frame.DataFrame'>\n",
      "RangeIndex: 8693 entries, 0 to 8692\n",
      "Data columns (total 12 columns):\n",
      " #   Column        Non-Null Count  Dtype  \n",
      "---  ------        --------------  -----  \n",
      " 0   Transported   8693 non-null   bool   \n",
      " 1   HomePlanet    8492 non-null   object \n",
      " 2   CryoSleep     8476 non-null   object \n",
      " 3   Cabin         8494 non-null   object \n",
      " 4   Destination   8511 non-null   object \n",
      " 5   Age           8514 non-null   float64\n",
      " 6   VIP           8490 non-null   object \n",
      " 7   RoomService   8512 non-null   float64\n",
      " 8   FoodCourt     8510 non-null   float64\n",
      " 9   ShoppingMall  8485 non-null   float64\n",
      " 10  Spa           8510 non-null   float64\n",
      " 11  VRDeck        8505 non-null   float64\n",
      "dtypes: bool(1), float64(6), object(5)\n",
      "memory usage: 755.7+ KB\n"
     ]
    }
   ],
   "source": [
    "df.info()"
   ]
  },
  {
   "cell_type": "markdown",
   "id": "cc7864ce",
   "metadata": {
    "papermill": {
     "duration": 0.011299,
     "end_time": "2023-11-25T08:07:49.903509",
     "exception": false,
     "start_time": "2023-11-25T08:07:49.892210",
     "status": "completed"
    },
    "tags": []
   },
   "source": [
    "###  HomePlanet"
   ]
  },
  {
   "cell_type": "code",
   "execution_count": 6,
   "id": "2e2b8ed8",
   "metadata": {
    "ExecuteTime": {
     "end_time": "2023-11-25T07:57:01.714916600Z",
     "start_time": "2023-11-25T07:57:01.132200300Z"
    },
    "execution": {
     "iopub.execute_input": "2023-11-25T08:07:49.923677Z",
     "iopub.status.busy": "2023-11-25T08:07:49.923677Z",
     "iopub.status.idle": "2023-11-25T08:07:50.104861Z",
     "shell.execute_reply": "2023-11-25T08:07:50.104861Z"
    },
    "papermill": {
     "duration": 0.191107,
     "end_time": "2023-11-25T08:07:50.104861",
     "exception": false,
     "start_time": "2023-11-25T08:07:49.913754",
     "status": "completed"
    },
    "tags": []
   },
   "outputs": [
    {
     "data": {
      "image/png": "[encoded data removed]",
      "text/plain": [
       "<Figure size 640x480 with 1 Axes>"
      ]
     },
     "metadata": {},
     "output_type": "display_data"
    }
   ],
   "source": [
    "col = 'HomePlanet'\n",
    "df[col].hist()\n",
    "df[col].fillna(df[col].mode()[0], inplace=True)\n",
    "df_test[col].fillna(df_test[col].mode()[0], inplace=True)"
   ]
  },
  {
   "cell_type": "markdown",
   "id": "1cf65cd0",
   "metadata": {
    "papermill": {
     "duration": 0.012154,
     "end_time": "2023-11-25T08:07:50.128688",
     "exception": false,
     "start_time": "2023-11-25T08:07:50.116534",
     "status": "completed"
    },
    "tags": []
   },
   "source": [
    "### Значение отсутсвует лишь у малой части записей, заменим пропуски на моду"
   ]
  },
  {
   "cell_type": "markdown",
   "id": "85fb391d",
   "metadata": {
    "papermill": {
     "duration": 0.010027,
     "end_time": "2023-11-25T08:07:50.153844",
     "exception": false,
     "start_time": "2023-11-25T08:07:50.143817",
     "status": "completed"
    },
    "tags": []
   },
   "source": [
    "### CryoSleep     "
   ]
  },
  {
   "cell_type": "code",
   "execution_count": 7,
   "id": "4f835c7b",
   "metadata": {
    "ExecuteTime": {
     "end_time": "2023-11-25T07:57:01.865546800Z",
     "start_time": "2023-11-25T07:57:01.282144400Z"
    },
    "execution": {
     "iopub.execute_input": "2023-11-25T08:07:50.183676Z",
     "iopub.status.busy": "2023-11-25T08:07:50.183676Z",
     "iopub.status.idle": "2023-11-25T08:07:50.335815Z",
     "shell.execute_reply": "2023-11-25T08:07:50.335815Z"
    },
    "papermill": {
     "duration": 0.16642,
     "end_time": "2023-11-25T08:07:50.335815",
     "exception": false,
     "start_time": "2023-11-25T08:07:50.169395",
     "status": "completed"
    },
    "tags": []
   },
   "outputs": [
    {
     "data": {
      "text/plain": [
       "<Axes: >"
      ]
     },
     "execution_count": 7,
     "metadata": {},
     "output_type": "execute_result"
    },
    {
     "data": {
      "image/png": "[encoded data removed]",
      "text/plain": [
       "<Figure size 640x480 with 1 Axes>"
      ]
     },
     "metadata": {},
     "output_type": "display_data"
    }
   ],
   "source": [
    "col = 'CryoSleep'\n",
    "df[col].astype(float).hist()"
   ]
  },
  {
   "cell_type": "markdown",
   "id": "a3a90a88",
   "metadata": {
    "papermill": {
     "duration": 0.015914,
     "end_time": "2023-11-25T08:07:50.363546",
     "exception": false,
     "start_time": "2023-11-25T08:07:50.347632",
     "status": "completed"
    },
    "tags": []
   },
   "source": [
    "### Что делать с признаком - неясно, решим вопрос позднее"
   ]
  },
  {
   "cell_type": "markdown",
   "id": "84043fde",
   "metadata": {
    "papermill": {
     "duration": 0.009998,
     "end_time": "2023-11-25T08:07:50.383794",
     "exception": false,
     "start_time": "2023-11-25T08:07:50.373796",
     "status": "completed"
    },
    "tags": []
   },
   "source": [
    "### Cabin"
   ]
  },
  {
   "cell_type": "code",
   "execution_count": 8,
   "id": "324b95f8",
   "metadata": {
    "ExecuteTime": {
     "end_time": "2023-11-25T07:57:01.865546800Z",
     "start_time": "2023-11-25T07:57:01.499067200Z"
    },
    "execution": {
     "iopub.execute_input": "2023-11-25T08:07:50.413670Z",
     "iopub.status.busy": "2023-11-25T08:07:50.413438Z",
     "iopub.status.idle": "2023-11-25T08:07:50.420923Z",
     "shell.execute_reply": "2023-11-25T08:07:50.420923Z"
    },
    "papermill": {
     "duration": 0.025673,
     "end_time": "2023-11-25T08:07:50.420923",
     "exception": false,
     "start_time": "2023-11-25T08:07:50.395250",
     "status": "completed"
    },
    "tags": []
   },
   "outputs": [
    {
     "data": {
      "text/plain": [
       "6560"
      ]
     },
     "execution_count": 8,
     "metadata": {},
     "output_type": "execute_result"
    }
   ],
   "source": [
    "col = 'Cabin'\n",
    "df[col].nunique()"
   ]
  },
  {
   "cell_type": "markdown",
   "id": "999d514e",
   "metadata": {
    "papermill": {
     "duration": 0.010037,
     "end_time": "2023-11-25T08:07:50.443696",
     "exception": false,
     "start_time": "2023-11-25T08:07:50.433659",
     "status": "completed"
    },
    "tags": []
   },
   "source": [
    "### Столбец имеет очень много уникальных категорий, которые невозможно использовать, разделим на три столбца - deck/num/side, которые возможно будут полезны"
   ]
  },
  {
   "cell_type": "code",
   "execution_count": 9,
   "id": "7bce6798",
   "metadata": {
    "ExecuteTime": {
     "end_time": "2023-11-25T07:57:01.887545Z",
     "start_time": "2023-11-25T07:57:01.635921700Z"
    },
    "execution": {
     "iopub.execute_input": "2023-11-25T08:07:50.473821Z",
     "iopub.status.busy": "2023-11-25T08:07:50.469315Z",
     "iopub.status.idle": "2023-11-25T08:07:50.507677Z",
     "shell.execute_reply": "2023-11-25T08:07:50.507677Z"
    },
    "papermill": {
     "duration": 0.054594,
     "end_time": "2023-11-25T08:07:50.510424",
     "exception": false,
     "start_time": "2023-11-25T08:07:50.455830",
     "status": "completed"
    },
    "tags": []
   },
   "outputs": [
    {
     "name": "stdout",
     "output_type": "stream",
     "text": [
      "<class 'pandas.core.frame.DataFrame'>\n",
      "RangeIndex: 8693 entries, 0 to 8692\n",
      "Data columns (total 14 columns):\n",
      " #   Column        Non-Null Count  Dtype  \n",
      "---  ------        --------------  -----  \n",
      " 0   Transported   8693 non-null   bool   \n",
      " 1   HomePlanet    8693 non-null   object \n",
      " 2   CryoSleep     8476 non-null   object \n",
      " 3   Destination   8511 non-null   object \n",
      " 4   Age           8514 non-null   float64\n",
      " 5   VIP           8490 non-null   object \n",
      " 6   RoomService   8512 non-null   float64\n",
      " 7   FoodCourt     8510 non-null   float64\n",
      " 8   ShoppingMall  8485 non-null   float64\n",
      " 9   Spa           8510 non-null   float64\n",
      " 10  VRDeck        8505 non-null   float64\n",
      " 11  Deck          8494 non-null   object \n",
      " 12  NumCabin      8494 non-null   object \n",
      " 13  Side          8494 non-null   object \n",
      "dtypes: bool(1), float64(6), object(7)\n",
      "memory usage: 891.5+ KB\n"
     ]
    }
   ],
   "source": [
    "df[['Deck', 'NumCabin', 'Side']] = df['Cabin'].str.split('/', expand=True)\n",
    "df_test[['Deck', 'NumCabin', 'Side']] = df_test['Cabin'].str.split('/', expand=True)\n",
    "df = df.drop('Cabin', axis=1)\n",
    "df_test = df_test.drop('Cabin', axis=1)\n",
    "df.info()"
   ]
  },
  {
   "cell_type": "code",
   "execution_count": 10,
   "id": "d41d73d8",
   "metadata": {
    "ExecuteTime": {
     "end_time": "2023-11-25T07:57:01.934432300Z",
     "start_time": "2023-11-25T07:57:01.653191Z"
    },
    "execution": {
     "iopub.execute_input": "2023-11-25T08:07:50.534735Z",
     "iopub.status.busy": "2023-11-25T08:07:50.534735Z",
     "iopub.status.idle": "2023-11-25T08:07:50.739342Z",
     "shell.execute_reply": "2023-11-25T08:07:50.738553Z"
    },
    "papermill": {
     "duration": 0.218482,
     "end_time": "2023-11-25T08:07:50.741063",
     "exception": false,
     "start_time": "2023-11-25T08:07:50.522581",
     "status": "completed"
    },
    "tags": []
   },
   "outputs": [
    {
     "data": {
      "image/png": "[encoded data removed]",
      "text/plain": [
       "<Figure size 640x480 with 1 Axes>"
      ]
     },
     "metadata": {},
     "output_type": "display_data"
    }
   ],
   "source": [
    "df['Deck'].hist()\n",
    "df['Deck'].fillna(df['Deck'].mode()[0], inplace=True)\n",
    "df_test['Deck'].fillna(df_test['Deck'].mode()[0], inplace=True)"
   ]
  },
  {
   "cell_type": "code",
   "execution_count": 11,
   "id": "39ca7edc2784cf7c",
   "metadata": {
    "ExecuteTime": {
     "end_time": "2023-11-25T07:57:01.966078100Z",
     "start_time": "2023-11-25T07:57:01.865546800Z"
    },
    "collapsed": false,
    "execution": {
     "iopub.execute_input": "2023-11-25T08:07:50.769609Z",
     "iopub.status.busy": "2023-11-25T08:07:50.768188Z",
     "iopub.status.idle": "2023-11-25T08:07:50.777834Z",
     "shell.execute_reply": "2023-11-25T08:07:50.777016Z"
    },
    "papermill": {
     "duration": 0.025166,
     "end_time": "2023-11-25T08:07:50.779431",
     "exception": false,
     "start_time": "2023-11-25T08:07:50.754265",
     "status": "completed"
    },
    "tags": []
   },
   "outputs": [],
   "source": [
    "df['NumCabin'] = df['NumCabin'].astype(float)\n",
    "df_test['NumCabin'] = df_test['NumCabin'].astype(float)"
   ]
  },
  {
   "cell_type": "code",
   "execution_count": 12,
   "id": "543c2688",
   "metadata": {
    "ExecuteTime": {
     "end_time": "2023-11-25T07:57:02.362451700Z",
     "start_time": "2023-11-25T07:57:01.876026700Z"
    },
    "execution": {
     "iopub.execute_input": "2023-11-25T08:07:50.807751Z",
     "iopub.status.busy": "2023-11-25T08:07:50.807751Z",
     "iopub.status.idle": "2023-11-25T08:07:51.018419Z",
     "shell.execute_reply": "2023-11-25T08:07:51.017491Z"
    },
    "papermill": {
     "duration": 0.227105,
     "end_time": "2023-11-25T08:07:51.020495",
     "exception": false,
     "start_time": "2023-11-25T08:07:50.793390",
     "status": "completed"
    },
    "tags": []
   },
   "outputs": [
    {
     "data": {
      "text/plain": [
       "<Axes: ylabel='NumCabin'>"
      ]
     },
     "execution_count": 12,
     "metadata": {},
     "output_type": "execute_result"
    },
    {
     "data": {
      "image/png": "[encoded data removed]",
      "text/plain": [
       "<Figure size 640x480 with 1 Axes>"
      ]
     },
     "metadata": {},
     "output_type": "display_data"
    }
   ],
   "source": [
    "df['NumCabin'] = df['NumCabin'].fillna(df['NumCabin'].median())\n",
    "df_test['NumCabin'] = df_test['NumCabin'].fillna(df_test['NumCabin'].median())\n",
    "sns.violinplot(df['NumCabin'])"
   ]
  },
  {
   "cell_type": "code",
   "execution_count": 13,
   "id": "fcf3fe17",
   "metadata": {
    "ExecuteTime": {
     "end_time": "2023-11-25T07:57:02.362451700Z",
     "start_time": "2023-11-25T07:57:02.126699500Z"
    },
    "execution": {
     "iopub.execute_input": "2023-11-25T08:07:51.049664Z",
     "iopub.status.busy": "2023-11-25T08:07:51.048260Z",
     "iopub.status.idle": "2023-11-25T08:07:51.161136Z",
     "shell.execute_reply": "2023-11-25T08:07:51.161136Z"
    },
    "papermill": {
     "duration": 0.129372,
     "end_time": "2023-11-25T08:07:51.163499",
     "exception": false,
     "start_time": "2023-11-25T08:07:51.034127",
     "status": "completed"
    },
    "tags": []
   },
   "outputs": [
    {
     "data": {
      "image/png": "[encoded data removed]",
      "text/plain": [
       "<Figure size 640x480 with 1 Axes>"
      ]
     },
     "metadata": {},
     "output_type": "display_data"
    }
   ],
   "source": [
    "df['Side'].hist()\n",
    "df['Side'].fillna(df['Side'].mode()[0], inplace=True)\n",
    "df_test['Side'].fillna(df_test['Side'].mode()[0], inplace=True)"
   ]
  },
  {
   "cell_type": "markdown",
   "id": "8e198a83",
   "metadata": {
    "papermill": {
     "duration": 0.012157,
     "end_time": "2023-11-25T08:07:51.189220",
     "exception": false,
     "start_time": "2023-11-25T08:07:51.177063",
     "status": "completed"
    },
    "tags": []
   },
   "source": [
    "### Destination"
   ]
  },
  {
   "cell_type": "code",
   "execution_count": 14,
   "id": "5a4180d6",
   "metadata": {
    "ExecuteTime": {
     "end_time": "2023-11-25T07:57:02.559662900Z",
     "start_time": "2023-11-25T07:57:02.268008400Z"
    },
    "execution": {
     "iopub.execute_input": "2023-11-25T08:07:51.219793Z",
     "iopub.status.busy": "2023-11-25T08:07:51.219793Z",
     "iopub.status.idle": "2023-11-25T08:07:51.353869Z",
     "shell.execute_reply": "2023-11-25T08:07:51.353869Z"
    },
    "papermill": {
     "duration": 0.147796,
     "end_time": "2023-11-25T08:07:51.353869",
     "exception": false,
     "start_time": "2023-11-25T08:07:51.206073",
     "status": "completed"
    },
    "tags": []
   },
   "outputs": [
    {
     "data": {
      "image/png": "[encoded data removed]",
      "text/plain": [
       "<Figure size 640x480 with 1 Axes>"
      ]
     },
     "metadata": {},
     "output_type": "display_data"
    }
   ],
   "source": [
    "col = 'Destination'\n",
    "df[col].hist()\n",
    "df[col].fillna(df[col].mode()[0], inplace=True)\n",
    "df_test[col].fillna(df_test[col].mode()[0], inplace=True)"
   ]
  },
  {
   "cell_type": "markdown",
   "id": "ae69993e",
   "metadata": {
    "papermill": {
     "duration": 0.012584,
     "end_time": "2023-11-25T08:07:51.383562",
     "exception": false,
     "start_time": "2023-11-25T08:07:51.370978",
     "status": "completed"
    },
    "tags": []
   },
   "source": [
    "### Подавляющее большинство принадлежит одному классу, заменяем пропуски на моду"
   ]
  },
  {
   "cell_type": "markdown",
   "id": "60cc8465",
   "metadata": {
    "papermill": {
     "duration": 0.017611,
     "end_time": "2023-11-25T08:07:51.413373",
     "exception": false,
     "start_time": "2023-11-25T08:07:51.395762",
     "status": "completed"
    },
    "tags": []
   },
   "source": [
    "### Age"
   ]
  },
  {
   "cell_type": "code",
   "execution_count": 15,
   "id": "78f0a298",
   "metadata": {
    "ExecuteTime": {
     "end_time": "2023-11-25T07:57:02.711282300Z",
     "start_time": "2023-11-25T07:57:02.427331500Z"
    },
    "execution": {
     "iopub.execute_input": "2023-11-25T08:07:51.443702Z",
     "iopub.status.busy": "2023-11-25T08:07:51.443702Z",
     "iopub.status.idle": "2023-11-25T08:07:51.647120Z",
     "shell.execute_reply": "2023-11-25T08:07:51.647120Z"
    },
    "papermill": {
     "duration": 0.258077,
     "end_time": "2023-11-25T08:07:51.683622",
     "exception": false,
     "start_time": "2023-11-25T08:07:51.425545",
     "status": "completed"
    },
    "tags": []
   },
   "outputs": [
    {
     "data": {
      "text/plain": [
       "14.489021423908726"
      ]
     },
     "execution_count": 15,
     "metadata": {},
     "output_type": "execute_result"
    },
    {
     "data": {
      "image/png": "[encoded data removed]",
      "text/plain": [
       "<Figure size 640x480 with 1 Axes>"
      ]
     },
     "metadata": {},
     "output_type": "display_data"
    }
   ],
   "source": [
    "col = 'Age'\n",
    "sns.violinplot(y=df[col])\n",
    "df[col].std()"
   ]
  },
  {
   "cell_type": "markdown",
   "id": "5245db48",
   "metadata": {
    "papermill": {
     "duration": 0.015626,
     "end_time": "2023-11-25T08:07:51.713863",
     "exception": false,
     "start_time": "2023-11-25T08:07:51.698237",
     "status": "completed"
    },
    "tags": []
   },
   "source": []
  },
  {
   "cell_type": "markdown",
   "id": "999562c4",
   "metadata": {
    "papermill": {
     "duration": 0.015131,
     "end_time": "2023-11-25T08:07:51.743673",
     "exception": false,
     "start_time": "2023-11-25T08:07:51.728542",
     "status": "completed"
    },
    "tags": []
   },
   "source": [
    "### Большинство значений сконцентрировано около медианы, заменим пропуски на неё"
   ]
  },
  {
   "cell_type": "code",
   "execution_count": 16,
   "id": "93c6f9e4",
   "metadata": {
    "ExecuteTime": {
     "end_time": "2023-11-25T07:57:02.711282300Z",
     "start_time": "2023-11-25T07:57:02.647491100Z"
    },
    "execution": {
     "iopub.execute_input": "2023-11-25T08:07:51.777125Z",
     "iopub.status.busy": "2023-11-25T08:07:51.777125Z",
     "iopub.status.idle": "2023-11-25T08:07:51.783126Z",
     "shell.execute_reply": "2023-11-25T08:07:51.782404Z"
    },
    "papermill": {
     "duration": 0.024817,
     "end_time": "2023-11-25T08:07:51.783634",
     "exception": false,
     "start_time": "2023-11-25T08:07:51.758817",
     "status": "completed"
    },
    "tags": []
   },
   "outputs": [],
   "source": [
    "df[col].fillna(df[col].median(), inplace=True)\n",
    "df_test[col].fillna(df_test[col].median(), inplace=True)"
   ]
  },
  {
   "cell_type": "markdown",
   "id": "beba2780",
   "metadata": {
    "papermill": {
     "duration": 0.018252,
     "end_time": "2023-11-25T08:07:51.813452",
     "exception": false,
     "start_time": "2023-11-25T08:07:51.795200",
     "status": "completed"
    },
    "tags": []
   },
   "source": [
    "### VIP"
   ]
  },
  {
   "cell_type": "code",
   "execution_count": 17,
   "id": "8928573d",
   "metadata": {
    "ExecuteTime": {
     "end_time": "2023-11-25T07:57:02.904805500Z",
     "start_time": "2023-11-25T07:57:02.652923200Z"
    },
    "execution": {
     "iopub.execute_input": "2023-11-25T08:07:51.843768Z",
     "iopub.status.busy": "2023-11-25T08:07:51.843768Z",
     "iopub.status.idle": "2023-11-25T08:07:52.013524Z",
     "shell.execute_reply": "2023-11-25T08:07:52.012870Z"
    },
    "papermill": {
     "duration": 0.187961,
     "end_time": "2023-11-25T08:07:52.013524",
     "exception": false,
     "start_time": "2023-11-25T08:07:51.825563",
     "status": "completed"
    },
    "tags": []
   },
   "outputs": [
    {
     "data": {
      "text/plain": [
       "<Axes: >"
      ]
     },
     "execution_count": 17,
     "metadata": {},
     "output_type": "execute_result"
    },
    {
     "data": {
      "image/png": "[encoded data removed]",
      "text/plain": [
       "<Figure size 640x480 with 1 Axes>"
      ]
     },
     "metadata": {},
     "output_type": "display_data"
    }
   ],
   "source": [
    "col = 'VIP'\n",
    "df[col].astype(float).hist()"
   ]
  },
  {
   "cell_type": "markdown",
   "id": "c481a0a6",
   "metadata": {
    "papermill": {
     "duration": 0.012903,
     "end_time": "2023-11-25T08:07:52.044642",
     "exception": false,
     "start_time": "2023-11-25T08:07:52.031739",
     "status": "completed"
    },
    "tags": []
   },
   "source": [
    "### Подавляющее большинство випами не являются, заменяем на 0 пропуски"
   ]
  },
  {
   "cell_type": "code",
   "execution_count": 18,
   "id": "ac2d5910",
   "metadata": {
    "ExecuteTime": {
     "end_time": "2023-11-25T07:57:02.926416700Z",
     "start_time": "2023-11-25T07:57:02.910312700Z"
    },
    "execution": {
     "iopub.execute_input": "2023-11-25T08:07:52.080721Z",
     "iopub.status.busy": "2023-11-25T08:07:52.080721Z",
     "iopub.status.idle": "2023-11-25T08:07:52.089141Z",
     "shell.execute_reply": "2023-11-25T08:07:52.089141Z"
    },
    "papermill": {
     "duration": 0.025142,
     "end_time": "2023-11-25T08:07:52.089141",
     "exception": false,
     "start_time": "2023-11-25T08:07:52.063999",
     "status": "completed"
    },
    "tags": []
   },
   "outputs": [],
   "source": [
    "df[col].fillna(df[col].mode()[0], inplace=True)\n",
    "df_test[col].fillna(df_test[col].mode()[0], inplace=True)"
   ]
  },
  {
   "cell_type": "markdown",
   "id": "1f48f9d3",
   "metadata": {
    "papermill": {
     "duration": 0.017141,
     "end_time": "2023-11-25T08:07:52.122030",
     "exception": false,
     "start_time": "2023-11-25T08:07:52.104889",
     "status": "completed"
    },
    "tags": []
   },
   "source": [
    "### RoomService"
   ]
  },
  {
   "cell_type": "code",
   "execution_count": 19,
   "id": "b991562e",
   "metadata": {
    "ExecuteTime": {
     "end_time": "2023-11-25T07:57:03.194830200Z",
     "start_time": "2023-11-25T07:57:02.914843200Z"
    },
    "execution": {
     "iopub.execute_input": "2023-11-25T08:07:52.153737Z",
     "iopub.status.busy": "2023-11-25T08:07:52.153737Z",
     "iopub.status.idle": "2023-11-25T08:07:52.322692Z",
     "shell.execute_reply": "2023-11-25T08:07:52.322692Z"
    },
    "papermill": {
     "duration": 0.190064,
     "end_time": "2023-11-25T08:07:52.324812",
     "exception": false,
     "start_time": "2023-11-25T08:07:52.134748",
     "status": "completed"
    },
    "tags": []
   },
   "outputs": [
    {
     "data": {
      "text/plain": [
       "<Axes: ylabel='RoomService'>"
      ]
     },
     "execution_count": 19,
     "metadata": {},
     "output_type": "execute_result"
    },
    {
     "data": {
      "image/png": "[encoded data removed]",
      "text/plain": [
       "<Figure size 640x480 with 1 Axes>"
      ]
     },
     "metadata": {},
     "output_type": "display_data"
    }
   ],
   "source": [
    "col = 'RoomService'\n",
    "sns.violinplot(y=df[col])"
   ]
  },
  {
   "cell_type": "markdown",
   "id": "38e4afa4",
   "metadata": {
    "papermill": {
     "duration": 0.017039,
     "end_time": "2023-11-25T08:07:52.358390",
     "exception": false,
     "start_time": "2023-11-25T08:07:52.341351",
     "status": "completed"
    },
    "tags": []
   },
   "source": [
    "### Видим выбросы, попытка исправить их картины не меняет, для начала заменим пропуски на медиану, если признак окажется неинфомативным - откажемся от него в дальнейшем"
   ]
  },
  {
   "cell_type": "code",
   "execution_count": 20,
   "id": "16427dac",
   "metadata": {
    "ExecuteTime": {
     "end_time": "2023-11-25T07:57:03.194830200Z",
     "start_time": "2023-11-25T07:57:03.131615900Z"
    },
    "execution": {
     "iopub.execute_input": "2023-11-25T08:07:52.391363Z",
     "iopub.status.busy": "2023-11-25T08:07:52.391363Z",
     "iopub.status.idle": "2023-11-25T08:07:52.397212Z",
     "shell.execute_reply": "2023-11-25T08:07:52.397212Z"
    },
    "papermill": {
     "duration": 0.025658,
     "end_time": "2023-11-25T08:07:52.399229",
     "exception": false,
     "start_time": "2023-11-25T08:07:52.373571",
     "status": "completed"
    },
    "tags": []
   },
   "outputs": [],
   "source": [
    "df[col].fillna(df[col].median(), inplace=True)\n",
    "df_test[col].fillna(df_test[col].median(), inplace=True)"
   ]
  },
  {
   "cell_type": "markdown",
   "id": "11ca6aee",
   "metadata": {
    "papermill": {
     "duration": 0.015529,
     "end_time": "2023-11-25T08:07:52.430344",
     "exception": false,
     "start_time": "2023-11-25T08:07:52.414815",
     "status": "completed"
    },
    "tags": []
   },
   "source": [
    "### FoodCourt"
   ]
  },
  {
   "cell_type": "code",
   "execution_count": 21,
   "id": "33e404d4",
   "metadata": {
    "ExecuteTime": {
     "end_time": "2023-11-25T07:57:03.353104500Z",
     "start_time": "2023-11-25T07:57:03.131615900Z"
    },
    "execution": {
     "iopub.execute_input": "2023-11-25T08:07:52.465006Z",
     "iopub.status.busy": "2023-11-25T08:07:52.463921Z",
     "iopub.status.idle": "2023-11-25T08:07:52.636666Z",
     "shell.execute_reply": "2023-11-25T08:07:52.635658Z"
    },
    "papermill": {
     "duration": 0.192269,
     "end_time": "2023-11-25T08:07:52.638677",
     "exception": false,
     "start_time": "2023-11-25T08:07:52.446408",
     "status": "completed"
    },
    "tags": []
   },
   "outputs": [
    {
     "data": {
      "text/plain": [
       "<Axes: ylabel='FoodCourt'>"
      ]
     },
     "execution_count": 21,
     "metadata": {},
     "output_type": "execute_result"
    },
    {
     "data": {
      "image/png": "[encoded data removed]",
      "text/plain": [
       "<Figure size 640x480 with 1 Axes>"
      ]
     },
     "metadata": {},
     "output_type": "display_data"
    }
   ],
   "source": [
    "col = 'FoodCourt'\n",
    "sns.violinplot(y=df[col])"
   ]
  },
  {
   "cell_type": "markdown",
   "id": "0bd6e71b",
   "metadata": {
    "papermill": {
     "duration": 0.016055,
     "end_time": "2023-11-25T08:07:52.671748",
     "exception": false,
     "start_time": "2023-11-25T08:07:52.655693",
     "status": "completed"
    },
    "tags": []
   },
   "source": [
    "### Ситуация абсолютно аналогичная, поступим тем же образом"
   ]
  },
  {
   "cell_type": "code",
   "execution_count": 22,
   "id": "3c85f885",
   "metadata": {
    "ExecuteTime": {
     "end_time": "2023-11-25T07:57:03.353104500Z",
     "start_time": "2023-11-25T07:57:03.315280200Z"
    },
    "execution": {
     "iopub.execute_input": "2023-11-25T08:07:52.706989Z",
     "iopub.status.busy": "2023-11-25T08:07:52.706989Z",
     "iopub.status.idle": "2023-11-25T08:07:52.712555Z",
     "shell.execute_reply": "2023-11-25T08:07:52.712555Z"
    },
    "papermill": {
     "duration": 0.025866,
     "end_time": "2023-11-25T08:07:52.714647",
     "exception": false,
     "start_time": "2023-11-25T08:07:52.688781",
     "status": "completed"
    },
    "tags": []
   },
   "outputs": [],
   "source": [
    "df[col].fillna(df[col].median(), inplace=True)\n",
    "df_test[col].fillna(df_test[col].median(), inplace=True)"
   ]
  },
  {
   "cell_type": "markdown",
   "id": "8e1f2ef1",
   "metadata": {
    "papermill": {
     "duration": 0.017047,
     "end_time": "2023-11-25T08:07:52.748892",
     "exception": false,
     "start_time": "2023-11-25T08:07:52.731845",
     "status": "completed"
    },
    "tags": []
   },
   "source": [
    "### ShoppingMall, SPA, VRDeck - то же самое"
   ]
  },
  {
   "cell_type": "code",
   "execution_count": 23,
   "id": "91efb0c5",
   "metadata": {
    "ExecuteTime": {
     "end_time": "2023-11-25T07:57:03.353104500Z",
     "start_time": "2023-11-25T07:57:03.330182Z"
    },
    "execution": {
     "iopub.execute_input": "2023-11-25T08:07:52.783617Z",
     "iopub.status.busy": "2023-11-25T08:07:52.783617Z",
     "iopub.status.idle": "2023-11-25T08:07:52.792062Z",
     "shell.execute_reply": "2023-11-25T08:07:52.792062Z"
    },
    "papermill": {
     "duration": 0.029696,
     "end_time": "2023-11-25T08:07:52.794613",
     "exception": false,
     "start_time": "2023-11-25T08:07:52.764917",
     "status": "completed"
    },
    "tags": []
   },
   "outputs": [],
   "source": [
    "col = 'ShoppingMall'\n",
    "df[col].fillna(df[col].median(), inplace=True)\n",
    "df_test[col].fillna(df_test[col].median(), inplace=True)\n",
    "col = 'VRDeck'\n",
    "df[col].fillna(df[col].median(), inplace=True)\n",
    "df_test[col].fillna(df_test[col].median(), inplace=True)\n",
    "col = 'Spa'\n",
    "df[col].fillna(df[col].median(), inplace=True)\n",
    "df_test[col].fillna(df_test[col].median(), inplace=True)"
   ]
  },
  {
   "cell_type": "code",
   "execution_count": 24,
   "id": "7d41a8dc",
   "metadata": {
    "ExecuteTime": {
     "end_time": "2023-11-25T07:57:03.353104500Z",
     "start_time": "2023-11-25T07:57:03.337936900Z"
    },
    "execution": {
     "iopub.execute_input": "2023-11-25T08:07:52.830167Z",
     "iopub.status.busy": "2023-11-25T08:07:52.830167Z",
     "iopub.status.idle": "2023-11-25T08:07:52.845224Z",
     "shell.execute_reply": "2023-11-25T08:07:52.844211Z"
    },
    "papermill": {
     "duration": 0.034105,
     "end_time": "2023-11-25T08:07:52.846231",
     "exception": false,
     "start_time": "2023-11-25T08:07:52.812126",
     "status": "completed"
    },
    "tags": []
   },
   "outputs": [
    {
     "name": "stdout",
     "output_type": "stream",
     "text": [
      "<class 'pandas.core.frame.DataFrame'>\n",
      "Index: 8476 entries, 0 to 8692\n",
      "Data columns (total 14 columns):\n",
      " #   Column        Non-Null Count  Dtype  \n",
      "---  ------        --------------  -----  \n",
      " 0   Transported   8476 non-null   bool   \n",
      " 1   HomePlanet    8476 non-null   object \n",
      " 2   CryoSleep     8476 non-null   object \n",
      " 3   Destination   8476 non-null   object \n",
      " 4   Age           8476 non-null   float64\n",
      " 5   VIP           8476 non-null   bool   \n",
      " 6   RoomService   8476 non-null   float64\n",
      " 7   FoodCourt     8476 non-null   float64\n",
      " 8   ShoppingMall  8476 non-null   float64\n",
      " 9   Spa           8476 non-null   float64\n",
      " 10  VRDeck        8476 non-null   float64\n",
      " 11  Deck          8476 non-null   object \n",
      " 12  NumCabin      8476 non-null   float64\n",
      " 13  Side          8476 non-null   object \n",
      "dtypes: bool(2), float64(7), object(5)\n",
      "memory usage: 877.4+ KB\n"
     ]
    }
   ],
   "source": [
    "df = df.dropna()\n",
    "df.info()"
   ]
  },
  {
   "cell_type": "markdown",
   "id": "ad81912c",
   "metadata": {
    "papermill": {
     "duration": 0.017104,
     "end_time": "2023-11-25T08:07:52.879857",
     "exception": false,
     "start_time": "2023-11-25T08:07:52.862753",
     "status": "completed"
    },
    "tags": []
   },
   "source": [
    "#### Поправим тип"
   ]
  },
  {
   "cell_type": "code",
   "execution_count": 25,
   "id": "3513ddde",
   "metadata": {
    "ExecuteTime": {
     "end_time": "2023-11-25T07:57:03.385056800Z",
     "start_time": "2023-11-25T07:57:03.353104500Z"
    },
    "execution": {
     "iopub.execute_input": "2023-11-25T08:07:52.915948Z",
     "iopub.status.busy": "2023-11-25T08:07:52.914947Z",
     "iopub.status.idle": "2023-11-25T08:07:52.928654Z",
     "shell.execute_reply": "2023-11-25T08:07:52.927645Z"
    },
    "papermill": {
     "duration": 0.03359,
     "end_time": "2023-11-25T08:07:52.930495",
     "exception": false,
     "start_time": "2023-11-25T08:07:52.896905",
     "status": "completed"
    },
    "tags": []
   },
   "outputs": [
    {
     "name": "stdout",
     "output_type": "stream",
     "text": [
      "<class 'pandas.core.frame.DataFrame'>\n",
      "Index: 8476 entries, 0 to 8692\n",
      "Data columns (total 14 columns):\n",
      " #   Column        Non-Null Count  Dtype  \n",
      "---  ------        --------------  -----  \n",
      " 0   Transported   8476 non-null   bool   \n",
      " 1   HomePlanet    8476 non-null   object \n",
      " 2   CryoSleep     8476 non-null   bool   \n",
      " 3   Destination   8476 non-null   object \n",
      " 4   Age           8476 non-null   float64\n",
      " 5   VIP           8476 non-null   bool   \n",
      " 6   RoomService   8476 non-null   float64\n",
      " 7   FoodCourt     8476 non-null   float64\n",
      " 8   ShoppingMall  8476 non-null   float64\n",
      " 9   Spa           8476 non-null   float64\n",
      " 10  VRDeck        8476 non-null   float64\n",
      " 11  Deck          8476 non-null   object \n",
      " 12  NumCabin      8476 non-null   int32  \n",
      " 13  Side          8476 non-null   object \n",
      "dtypes: bool(3), float64(6), int32(1), object(4)\n",
      "memory usage: 786.3+ KB\n"
     ]
    }
   ],
   "source": [
    "df['CryoSleep'] = df['CryoSleep'].astype(bool)\n",
    "df['NumCabin'] = df['NumCabin'].astype(int)\n",
    "df.info()"
   ]
  },
  {
   "cell_type": "markdown",
   "id": "e28cc4c0",
   "metadata": {
    "papermill": {
     "duration": 0.017072,
     "end_time": "2023-11-25T08:07:52.964771",
     "exception": false,
     "start_time": "2023-11-25T08:07:52.947699",
     "status": "completed"
    },
    "tags": []
   },
   "source": [
    "## Сохранили более 97.5% строк"
   ]
  },
  {
   "cell_type": "code",
   "execution_count": 26,
   "id": "679ea96145a4227a",
   "metadata": {
    "ExecuteTime": {
     "end_time": "2023-11-25T07:57:03.512097300Z",
     "start_time": "2023-11-25T07:57:03.370043800Z"
    },
    "collapsed": false,
    "execution": {
     "iopub.execute_input": "2023-11-25T08:07:52.999990Z",
     "iopub.status.busy": "2023-11-25T08:07:52.998990Z",
     "iopub.status.idle": "2023-11-25T08:07:53.022130Z",
     "shell.execute_reply": "2023-11-25T08:07:53.021264Z"
    },
    "papermill": {
     "duration": 0.042254,
     "end_time": "2023-11-25T08:07:53.023656",
     "exception": false,
     "start_time": "2023-11-25T08:07:52.981402",
     "status": "completed"
    },
    "tags": []
   },
   "outputs": [
    {
     "data": {
      "text/html": [
       "<div>\n",
       "<style scoped>\n",
       "    .dataframe tbody tr th:only-of-type {\n",
       "        vertical-align: middle;\n",
       "    }\n",
       "\n",
       "    .dataframe tbody tr th {\n",
       "        vertical-align: top;\n",
       "    }\n",
       "\n",
       "    .dataframe thead th {\n",
       "        text-align: right;\n",
       "    }\n",
       "</style>\n",
       "<table border=\"1\" class=\"dataframe\">\n",
       "  <thead>\n",
       "    <tr style=\"text-align: right;\">\n",
       "      <th></th>\n",
       "      <th>Transported</th>\n",
       "      <th>HomePlanet</th>\n",
       "      <th>CryoSleep</th>\n",
       "      <th>Destination</th>\n",
       "      <th>Age</th>\n",
       "      <th>VIP</th>\n",
       "      <th>RoomService</th>\n",
       "      <th>FoodCourt</th>\n",
       "      <th>ShoppingMall</th>\n",
       "      <th>Spa</th>\n",
       "      <th>VRDeck</th>\n",
       "      <th>Deck</th>\n",
       "      <th>NumCabin</th>\n",
       "      <th>Side</th>\n",
       "    </tr>\n",
       "  </thead>\n",
       "  <tbody>\n",
       "    <tr>\n",
       "      <th>0</th>\n",
       "      <td>False</td>\n",
       "      <td>Europa</td>\n",
       "      <td>False</td>\n",
       "      <td>TRAPPIST-1e</td>\n",
       "      <td>39.0</td>\n",
       "      <td>False</td>\n",
       "      <td>0.0</td>\n",
       "      <td>0.0</td>\n",
       "      <td>0.0</td>\n",
       "      <td>0.0</td>\n",
       "      <td>0.0</td>\n",
       "      <td>B</td>\n",
       "      <td>0</td>\n",
       "      <td>P</td>\n",
       "    </tr>\n",
       "    <tr>\n",
       "      <th>1</th>\n",
       "      <td>True</td>\n",
       "      <td>Earth</td>\n",
       "      <td>False</td>\n",
       "      <td>TRAPPIST-1e</td>\n",
       "      <td>24.0</td>\n",
       "      <td>False</td>\n",
       "      <td>109.0</td>\n",
       "      <td>9.0</td>\n",
       "      <td>25.0</td>\n",
       "      <td>549.0</td>\n",
       "      <td>44.0</td>\n",
       "      <td>F</td>\n",
       "      <td>0</td>\n",
       "      <td>S</td>\n",
       "    </tr>\n",
       "    <tr>\n",
       "      <th>2</th>\n",
       "      <td>False</td>\n",
       "      <td>Europa</td>\n",
       "      <td>False</td>\n",
       "      <td>TRAPPIST-1e</td>\n",
       "      <td>58.0</td>\n",
       "      <td>True</td>\n",
       "      <td>43.0</td>\n",
       "      <td>3576.0</td>\n",
       "      <td>0.0</td>\n",
       "      <td>6715.0</td>\n",
       "      <td>49.0</td>\n",
       "      <td>A</td>\n",
       "      <td>0</td>\n",
       "      <td>S</td>\n",
       "    </tr>\n",
       "    <tr>\n",
       "      <th>3</th>\n",
       "      <td>False</td>\n",
       "      <td>Europa</td>\n",
       "      <td>False</td>\n",
       "      <td>TRAPPIST-1e</td>\n",
       "      <td>33.0</td>\n",
       "      <td>False</td>\n",
       "      <td>0.0</td>\n",
       "      <td>1283.0</td>\n",
       "      <td>371.0</td>\n",
       "      <td>3329.0</td>\n",
       "      <td>193.0</td>\n",
       "      <td>A</td>\n",
       "      <td>0</td>\n",
       "      <td>S</td>\n",
       "    </tr>\n",
       "    <tr>\n",
       "      <th>4</th>\n",
       "      <td>True</td>\n",
       "      <td>Earth</td>\n",
       "      <td>False</td>\n",
       "      <td>TRAPPIST-1e</td>\n",
       "      <td>16.0</td>\n",
       "      <td>False</td>\n",
       "      <td>303.0</td>\n",
       "      <td>70.0</td>\n",
       "      <td>151.0</td>\n",
       "      <td>565.0</td>\n",
       "      <td>2.0</td>\n",
       "      <td>F</td>\n",
       "      <td>1</td>\n",
       "      <td>S</td>\n",
       "    </tr>\n",
       "    <tr>\n",
       "      <th>...</th>\n",
       "      <td>...</td>\n",
       "      <td>...</td>\n",
       "      <td>...</td>\n",
       "      <td>...</td>\n",
       "      <td>...</td>\n",
       "      <td>...</td>\n",
       "      <td>...</td>\n",
       "      <td>...</td>\n",
       "      <td>...</td>\n",
       "      <td>...</td>\n",
       "      <td>...</td>\n",
       "      <td>...</td>\n",
       "      <td>...</td>\n",
       "      <td>...</td>\n",
       "    </tr>\n",
       "    <tr>\n",
       "      <th>8688</th>\n",
       "      <td>False</td>\n",
       "      <td>Europa</td>\n",
       "      <td>False</td>\n",
       "      <td>55 Cancri e</td>\n",
       "      <td>41.0</td>\n",
       "      <td>True</td>\n",
       "      <td>0.0</td>\n",
       "      <td>6819.0</td>\n",
       "      <td>0.0</td>\n",
       "      <td>1643.0</td>\n",
       "      <td>74.0</td>\n",
       "      <td>A</td>\n",
       "      <td>98</td>\n",
       "      <td>P</td>\n",
       "    </tr>\n",
       "    <tr>\n",
       "      <th>8689</th>\n",
       "      <td>False</td>\n",
       "      <td>Earth</td>\n",
       "      <td>True</td>\n",
       "      <td>PSO J318.5-22</td>\n",
       "      <td>18.0</td>\n",
       "      <td>False</td>\n",
       "      <td>0.0</td>\n",
       "      <td>0.0</td>\n",
       "      <td>0.0</td>\n",
       "      <td>0.0</td>\n",
       "      <td>0.0</td>\n",
       "      <td>G</td>\n",
       "      <td>1499</td>\n",
       "      <td>S</td>\n",
       "    </tr>\n",
       "    <tr>\n",
       "      <th>8690</th>\n",
       "      <td>True</td>\n",
       "      <td>Earth</td>\n",
       "      <td>False</td>\n",
       "      <td>TRAPPIST-1e</td>\n",
       "      <td>26.0</td>\n",
       "      <td>False</td>\n",
       "      <td>0.0</td>\n",
       "      <td>0.0</td>\n",
       "      <td>1872.0</td>\n",
       "      <td>1.0</td>\n",
       "      <td>0.0</td>\n",
       "      <td>G</td>\n",
       "      <td>1500</td>\n",
       "      <td>S</td>\n",
       "    </tr>\n",
       "    <tr>\n",
       "      <th>8691</th>\n",
       "      <td>False</td>\n",
       "      <td>Europa</td>\n",
       "      <td>False</td>\n",
       "      <td>55 Cancri e</td>\n",
       "      <td>32.0</td>\n",
       "      <td>False</td>\n",
       "      <td>0.0</td>\n",
       "      <td>1049.0</td>\n",
       "      <td>0.0</td>\n",
       "      <td>353.0</td>\n",
       "      <td>3235.0</td>\n",
       "      <td>E</td>\n",
       "      <td>608</td>\n",
       "      <td>S</td>\n",
       "    </tr>\n",
       "    <tr>\n",
       "      <th>8692</th>\n",
       "      <td>True</td>\n",
       "      <td>Europa</td>\n",
       "      <td>False</td>\n",
       "      <td>TRAPPIST-1e</td>\n",
       "      <td>44.0</td>\n",
       "      <td>False</td>\n",
       "      <td>126.0</td>\n",
       "      <td>4688.0</td>\n",
       "      <td>0.0</td>\n",
       "      <td>0.0</td>\n",
       "      <td>12.0</td>\n",
       "      <td>E</td>\n",
       "      <td>608</td>\n",
       "      <td>S</td>\n",
       "    </tr>\n",
       "  </tbody>\n",
       "</table>\n",
       "<p>8476 rows × 14 columns</p>\n",
       "</div>"
      ],
      "text/plain": [
       "      Transported HomePlanet  CryoSleep    Destination   Age    VIP  \\\n",
       "0           False     Europa      False    TRAPPIST-1e  39.0  False   \n",
       "1            True      Earth      False    TRAPPIST-1e  24.0  False   \n",
       "2           False     Europa      False    TRAPPIST-1e  58.0   True   \n",
       "3           False     Europa      False    TRAPPIST-1e  33.0  False   \n",
       "4            True      Earth      False    TRAPPIST-1e  16.0  False   \n",
       "...           ...        ...        ...            ...   ...    ...   \n",
       "8688        False     Europa      False    55 Cancri e  41.0   True   \n",
       "8689        False      Earth       True  PSO J318.5-22  18.0  False   \n",
       "8690         True      Earth      False    TRAPPIST-1e  26.0  False   \n",
       "8691        False     Europa      False    55 Cancri e  32.0  False   \n",
       "8692         True     Europa      False    TRAPPIST-1e  44.0  False   \n",
       "\n",
       "      RoomService  FoodCourt  ShoppingMall     Spa  VRDeck Deck  NumCabin Side  \n",
       "0             0.0        0.0           0.0     0.0     0.0    B         0    P  \n",
       "1           109.0        9.0          25.0   549.0    44.0    F         0    S  \n",
       "2            43.0     3576.0           0.0  6715.0    49.0    A         0    S  \n",
       "3             0.0     1283.0         371.0  3329.0   193.0    A         0    S  \n",
       "4           303.0       70.0         151.0   565.0     2.0    F         1    S  \n",
       "...           ...        ...           ...     ...     ...  ...       ...  ...  \n",
       "8688          0.0     6819.0           0.0  1643.0    74.0    A        98    P  \n",
       "8689          0.0        0.0           0.0     0.0     0.0    G      1499    S  \n",
       "8690          0.0        0.0        1872.0     1.0     0.0    G      1500    S  \n",
       "8691          0.0     1049.0           0.0   353.0  3235.0    E       608    S  \n",
       "8692        126.0     4688.0           0.0     0.0    12.0    E       608    S  \n",
       "\n",
       "[8476 rows x 14 columns]"
      ]
     },
     "execution_count": 26,
     "metadata": {},
     "output_type": "execute_result"
    }
   ],
   "source": [
    "df"
   ]
  },
  {
   "cell_type": "code",
   "execution_count": 27,
   "id": "13220088f777d66e",
   "metadata": {
    "ExecuteTime": {
     "end_time": "2023-11-25T07:57:03.512097300Z",
     "start_time": "2023-11-25T07:57:03.391138500Z"
    },
    "collapsed": false,
    "execution": {
     "iopub.execute_input": "2023-11-25T08:07:53.061611Z",
     "iopub.status.busy": "2023-11-25T08:07:53.061611Z",
     "iopub.status.idle": "2023-11-25T08:07:53.146822Z",
     "shell.execute_reply": "2023-11-25T08:07:53.145813Z"
    },
    "papermill": {
     "duration": 0.107642,
     "end_time": "2023-11-25T08:07:53.148827",
     "exception": false,
     "start_time": "2023-11-25T08:07:53.041185",
     "status": "completed"
    },
    "tags": []
   },
   "outputs": [],
   "source": [
    "df.to_csv('train_new.csv', index=False)\n",
    "df_test.to_csv('test_new.csv', index=False)"
   ]
  },
  {
   "cell_type": "code",
   "execution_count": 28,
   "id": "79a7bcf6852d192e",
   "metadata": {
    "ExecuteTime": {
     "end_time": "2023-11-25T07:57:03.512097300Z",
     "start_time": "2023-11-25T07:57:03.480557600Z"
    },
    "collapsed": false,
    "execution": {
     "iopub.execute_input": "2023-11-25T08:07:53.183775Z",
     "iopub.status.busy": "2023-11-25T08:07:53.183775Z",
     "iopub.status.idle": "2023-11-25T08:07:53.196817Z",
     "shell.execute_reply": "2023-11-25T08:07:53.196817Z"
    },
    "papermill": {
     "duration": 0.031834,
     "end_time": "2023-11-25T08:07:53.196817",
     "exception": false,
     "start_time": "2023-11-25T08:07:53.164983",
     "status": "completed"
    },
    "tags": []
   },
   "outputs": [
    {
     "name": "stdout",
     "output_type": "stream",
     "text": [
      "<class 'pandas.core.frame.DataFrame'>\n",
      "Index: 8476 entries, 0 to 8692\n",
      "Data columns (total 14 columns):\n",
      " #   Column        Non-Null Count  Dtype  \n",
      "---  ------        --------------  -----  \n",
      " 0   Transported   8476 non-null   bool   \n",
      " 1   HomePlanet    8476 non-null   object \n",
      " 2   CryoSleep     8476 non-null   bool   \n",
      " 3   Destination   8476 non-null   object \n",
      " 4   Age           8476 non-null   float64\n",
      " 5   VIP           8476 non-null   bool   \n",
      " 6   RoomService   8476 non-null   float64\n",
      " 7   FoodCourt     8476 non-null   float64\n",
      " 8   ShoppingMall  8476 non-null   float64\n",
      " 9   Spa           8476 non-null   float64\n",
      " 10  VRDeck        8476 non-null   float64\n",
      " 11  Deck          8476 non-null   object \n",
      " 12  NumCabin      8476 non-null   int32  \n",
      " 13  Side          8476 non-null   object \n",
      "dtypes: bool(3), float64(6), int32(1), object(4)\n",
      "memory usage: 786.3+ KB\n"
     ]
    }
   ],
   "source": [
    "df.info()"
   ]
  },
  {
   "cell_type": "code",
   "execution_count": null,
   "id": "fdda05a74fd35f58",
   "metadata": {
    "ExecuteTime": {
     "end_time": "2023-11-25T07:57:03.512097300Z",
     "start_time": "2023-11-25T07:57:03.492191500Z"
    },
    "collapsed": false,
    "papermill": {
     "duration": 0.016806,
     "end_time": "2023-11-25T08:07:53.233549",
     "exception": false,
     "start_time": "2023-11-25T08:07:53.216743",
     "status": "completed"
    },
    "tags": []
   },
   "outputs": [],
   "source": []
  }
 ],
 "metadata": {
  "kernelspec": {
   "display_name": "Python 3 (ipykernel)",
   "language": "python",
   "name": "python3"
  },
  "language_info": {
   "codemirror_mode": {
    "name": "ipython",
    "version": 3
   },
   "file_extension": ".py",
   "mimetype": "text/x-python",
   "name": "python",
   "nbconvert_exporter": "python",
   "pygments_lexer": "ipython3",
   "version": "3.11.5"
  },
  "papermill": {
   "default_parameters": {},
   "duration": 8.084033,
   "end_time": "2023-11-25T08:07:53.703792",
   "environment_variables": {},
   "exception": null,
   "input_path": "C:\\Users\\tosha\\PycharmProjects\\space_titanic\\preprocess.ipynb",
   "output_path": "C:\\Users\\tosha\\PycharmProjects\\space_titanic\\preprocess.ipynb",
   "parameters": {},
   "start_time": "2023-11-25T08:07:45.619759",
   "version": "2.5.0"
  }
 },
 "nbformat": 4,
 "nbformat_minor": 5
}